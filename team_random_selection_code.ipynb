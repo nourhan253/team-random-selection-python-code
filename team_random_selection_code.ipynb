{
  "cells": [
    {
      "cell_type": "markdown",
      "metadata": {
        "id": "9nEG-DS-Jlo4"
      },
      "source": [
        "# Team Random Selection Code :)\n"
      ]
    },
    {
      "cell_type": "code",
      "execution_count": 1,
      "metadata": {
        "id": "ZylX1OTfJlo9"
      },
      "outputs": [],
      "source": [
        "import random\n",
        "\n",
        "# Define the four test lists\n",
        "level1_list = [1, 2, 3, 4]\n",
        "level2_list = ['a', 'b', 'c','d']\n",
        "level3_list = [99, 88, 77,66]\n",
        "level4_list = [\"1$\",\"2&\",\"3%\",\"4©\"]"
      ]
    },
    {
      "cell_type": "markdown",
      "metadata": {
        "id": "1trK3QRdJlo_"
      },
      "source": [
        "Think about a code that help us to have random new mixed lists, each list should have one element from each level lists.\n",
        "\n",
        "Output may be like that following:\n",
        "```python\n",
        "team1 = [1, 'c', 88, '2&']\n",
        "team2 = [4, 'a', 99, '3%']\n",
        "team3 = [2, 'b', 77, '4©']\n",
        "team4 = [3, 'd', 66, '1$']\n",
        "```\n",
        "\n"
      ]
    },
    {
      "cell_type": "code",
      "execution_count": 2,
      "metadata": {
        "colab": {
          "base_uri": "https://localhost:8080/"
        },
        "id": "fwN7a2jKJlpA",
        "outputId": "11833359-f41b-4686-8872-516a579583af"
      },
      "outputs": [
        {
          "output_type": "stream",
          "name": "stdout",
          "text": [
            "team1 = [3, 'd', 66, '4©']\n",
            "team2 = [1, 'a', 88, '4©']\n",
            "team3 = [4, 'c', 66, '1$']\n",
            "team4 = [2, 'd', 88, '2&']\n"
          ]
        }
      ],
      "source": [
        "# your code here\n",
        "# Create an empty list to store the teams\n",
        "teams = []\n",
        "\n",
        "# Loop four times to create four teams\n",
        "for i in range(4):\n",
        "    # Create an empty list for the current team\n",
        "    team = []\n",
        "\n",
        "    # Randomly select an element from each level list\n",
        "    team.append(random.choice(level1_list))\n",
        "    team.append(random.choice(level2_list))\n",
        "    team.append(random.choice(level3_list))\n",
        "    team.append(random.choice(level4_list))\n",
        "\n",
        "    # Add the team to the list of teams\n",
        "    teams.append(team)\n",
        "\n",
        "# Print the teams\n",
        "print(\"team1 =\", teams[0])\n",
        "print(\"team2 =\", teams[1])\n",
        "print(\"team3 =\", teams[2])\n",
        "print(\"team4 =\", teams[3])\n"
      ]
    }
  ],
  "metadata": {
    "kernelspec": {
      "display_name": "pubmed",
      "language": "python",
      "name": "python3"
    },
    "language_info": {
      "name": "python",
      "version": "3.11.9"
    },
    "colab": {
      "provenance": [],
      "toc_visible": true
    }
  },
  "nbformat": 4,
  "nbformat_minor": 0
}